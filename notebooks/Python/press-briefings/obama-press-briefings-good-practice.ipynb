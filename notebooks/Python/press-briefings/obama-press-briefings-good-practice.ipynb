{
 "cells": [
  {
   "cell_type": "code",
   "execution_count": null,
   "metadata": {},
   "outputs": [],
   "source": [
    "import requests\n",
    "from os import makedirs\n",
    "from os.path import join\n",
    "\n",
    "URL_ENDPOINT = 'https://www.whitehouse.gov/briefing-room/press-briefings'\n",
    "MAX_PAGE_NUM = 178\n",
    "INDEX_PAGE_DIR = 'index-pages'\n",
    "makedirs(INDEX_PAGE_DIR, exist_ok=True)\n",
    "\n",
    "for pagenum in range(0, MAX_PAGE_NUM):\n",
    "    resp = requests.get(URL_ENDPOINT, params={'page':pagenum})\n",
    "    print(\"Downloaded\", resp.url)\n",
    "\n",
    "    fname = join(INDEX_PAGE_DIR, '{pageNumber}.html'.format(pageNumber = pagenum))\n",
    "    print(\"Saving to\", fname)\n",
    "    with open(fname, \"w\") as wf:\n",
    "        wf.write(resp.text)"
   ]
  }
 ],
 "metadata": {
  "kernelspec": {
   "display_name": "Python 3",
   "language": "python",
   "name": "python3"
  },
  "language_info": {
   "codemirror_mode": {
    "name": "ipython",
    "version": 3
   },
   "file_extension": ".py",
   "mimetype": "text/x-python",
   "name": "python",
   "nbconvert_exporter": "python",
   "pygments_lexer": "ipython3",
   "version": "3.7.3"
  }
 },
 "nbformat": 4,
 "nbformat_minor": 2
}
