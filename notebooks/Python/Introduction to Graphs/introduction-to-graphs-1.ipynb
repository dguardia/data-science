{
    "metadata": {
        "kernelspec": {
            "display_name": "Python 3",
            "language": "python",
            "name": "python3"
        },
        "language_info": {
            "name": "python",
            "version": ""
        }
    },
    "nbformat_minor": 2,
    "nbformat": 4,
    "cells": [
        {
            "cell_type": "code",
            "source": "import numpy as np\nimport ramdon\nimport networkx as nx\nfrom Ipython.display import Image\nimport matplotlib.pyplot as plt",
            "metadata": {},
            "outputs": [],
            "execution_count": 0
        }
    ]
}